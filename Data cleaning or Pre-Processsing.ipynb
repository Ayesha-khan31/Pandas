{
  "metadata": {
    "language_info": {
      "codemirror_mode": {
        "name": "python",
        "version": 3
      },
      "file_extension": ".py",
      "mimetype": "text/x-python",
      "name": "python",
      "nbconvert_exporter": "python",
      "pygments_lexer": "ipython3",
      "version": "3.8"
    },
    "kernelspec": {
      "name": "python",
      "display_name": "Python (Pyodide)",
      "language": "python"
    }
  },
  "nbformat_minor": 4,
  "nbformat": 4,
  "cells": [
    {
      "cell_type": "markdown",
      "source": " # Data cleaning and preprocessing:",
      "metadata": {}
    },
    {
      "cell_type": "markdown",
      "source": "Pandas is a powerful Python library for data manipulation and analysis. It provides a wide range of tools for data cleaning and preprocessing, which are crucial steps in preparing data for machine learning models.\n\n     **Handling Missing Values:**\n     \nPandas provides functions to identify and handle missing values.\n\n**isnull() and notnull():** These functions check for missing values in a DataFrame or Series\n\n**dropna():** This function removes rows or columns containing missing values based on specified criteria.\n\n**fillna():** This function replaces missing values with specified values, such as the mean, median, or a constant value.",
      "metadata": {}
    },
    {
      "cell_type": "code",
      "source": "import pandas as pd\ndata = {'Age': [21, None, 23, None], 'Salary': [250000 ,56000, None, 98000]}\ndf = pd.DataFrame(data)\nmissing_values = df.notnull()\nprint(missing_values)",
      "metadata": {
        "trusted": true
      },
      "execution_count": 8,
      "outputs": [
        {
          "name": "stdout",
          "text": "     Age  Salary\n0   True    True\n1  False    True\n2   True   False\n3  False    True\n",
          "output_type": "stream"
        }
      ]
    },
    {
      "cell_type": "markdown",
      "source": " **With .csv file**",
      "metadata": {}
    },
    {
      "cell_type": "code",
      "source": "import pandas as pd\ndf = pd.read_csv('aug_test.csv')\ndf",
      "metadata": {
        "trusted": true
      },
      "execution_count": 9,
      "outputs": [
        {
          "execution_count": 9,
          "output_type": "execute_result",
          "data": {
            "text/plain": "      enrollee_id      city  city_development_index  gender  \\\n0           32403   city_41                   0.827    Male   \n1            9858  city_103                   0.920  Female   \n2           31806   city_21                   0.624    Male   \n3           27385   city_13                   0.827    Male   \n4           27724  city_103                   0.920    Male   \n...           ...       ...                     ...     ...   \n2124         1289  city_103                   0.920    Male   \n2125          195  city_136                   0.897    Male   \n2126        31762  city_100                   0.887    Male   \n2127         7873  city_102                   0.804    Male   \n2128        12215  city_102                   0.804    Male   \n\n          relevent_experience enrolled_university education_level  \\\n0     Has relevent experience    Full time course        Graduate   \n1     Has relevent experience       no_enrollment        Graduate   \n2      No relevent experience       no_enrollment     High School   \n3     Has relevent experience       no_enrollment         Masters   \n4     Has relevent experience       no_enrollment        Graduate   \n...                       ...                 ...             ...   \n2124   No relevent experience       no_enrollment        Graduate   \n2125  Has relevent experience       no_enrollment         Masters   \n2126   No relevent experience       no_enrollment  Primary School   \n2127  Has relevent experience    Full time course     High School   \n2128  Has relevent experience       no_enrollment         Masters   \n\n     major_discipline experience company_size   company_type last_new_job  \\\n0                STEM          9          <10            NaN            1   \n1                STEM          5          NaN        Pvt Ltd            1   \n2                 NaN         <1          NaN        Pvt Ltd        never   \n3                STEM         11        10/49        Pvt Ltd            1   \n4                STEM        >20       10000+        Pvt Ltd           >4   \n...               ...        ...          ...            ...          ...   \n2124       Humanities         16          NaN  Public Sector            4   \n2125             STEM         18          NaN            NaN            2   \n2126              NaN          3          NaN        Pvt Ltd        never   \n2127              NaN          7      100-500  Public Sector            1   \n2128             STEM         15       10000+        Pvt Ltd            2   \n\n      training_hours  \n0                 21  \n1                 98  \n2                 15  \n3                 39  \n4                 72  \n...              ...  \n2124              15  \n2125              30  \n2126              18  \n2127              84  \n2128              11  \n\n[2129 rows x 13 columns]",
            "text/html": "<div>\n<style scoped>\n    .dataframe tbody tr th:only-of-type {\n        vertical-align: middle;\n    }\n\n    .dataframe tbody tr th {\n        vertical-align: top;\n    }\n\n    .dataframe thead th {\n        text-align: right;\n    }\n</style>\n<table border=\"1\" class=\"dataframe\">\n  <thead>\n    <tr style=\"text-align: right;\">\n      <th></th>\n      <th>enrollee_id</th>\n      <th>city</th>\n      <th>city_development_index</th>\n      <th>gender</th>\n      <th>relevent_experience</th>\n      <th>enrolled_university</th>\n      <th>education_level</th>\n      <th>major_discipline</th>\n      <th>experience</th>\n      <th>company_size</th>\n      <th>company_type</th>\n      <th>last_new_job</th>\n      <th>training_hours</th>\n    </tr>\n  </thead>\n  <tbody>\n    <tr>\n      <th>0</th>\n      <td>32403</td>\n      <td>city_41</td>\n      <td>0.827</td>\n      <td>Male</td>\n      <td>Has relevent experience</td>\n      <td>Full time course</td>\n      <td>Graduate</td>\n      <td>STEM</td>\n      <td>9</td>\n      <td>&lt;10</td>\n      <td>NaN</td>\n      <td>1</td>\n      <td>21</td>\n    </tr>\n    <tr>\n      <th>1</th>\n      <td>9858</td>\n      <td>city_103</td>\n      <td>0.920</td>\n      <td>Female</td>\n      <td>Has relevent experience</td>\n      <td>no_enrollment</td>\n      <td>Graduate</td>\n      <td>STEM</td>\n      <td>5</td>\n      <td>NaN</td>\n      <td>Pvt Ltd</td>\n      <td>1</td>\n      <td>98</td>\n    </tr>\n    <tr>\n      <th>2</th>\n      <td>31806</td>\n      <td>city_21</td>\n      <td>0.624</td>\n      <td>Male</td>\n      <td>No relevent experience</td>\n      <td>no_enrollment</td>\n      <td>High School</td>\n      <td>NaN</td>\n      <td>&lt;1</td>\n      <td>NaN</td>\n      <td>Pvt Ltd</td>\n      <td>never</td>\n      <td>15</td>\n    </tr>\n    <tr>\n      <th>3</th>\n      <td>27385</td>\n      <td>city_13</td>\n      <td>0.827</td>\n      <td>Male</td>\n      <td>Has relevent experience</td>\n      <td>no_enrollment</td>\n      <td>Masters</td>\n      <td>STEM</td>\n      <td>11</td>\n      <td>10/49</td>\n      <td>Pvt Ltd</td>\n      <td>1</td>\n      <td>39</td>\n    </tr>\n    <tr>\n      <th>4</th>\n      <td>27724</td>\n      <td>city_103</td>\n      <td>0.920</td>\n      <td>Male</td>\n      <td>Has relevent experience</td>\n      <td>no_enrollment</td>\n      <td>Graduate</td>\n      <td>STEM</td>\n      <td>&gt;20</td>\n      <td>10000+</td>\n      <td>Pvt Ltd</td>\n      <td>&gt;4</td>\n      <td>72</td>\n    </tr>\n    <tr>\n      <th>...</th>\n      <td>...</td>\n      <td>...</td>\n      <td>...</td>\n      <td>...</td>\n      <td>...</td>\n      <td>...</td>\n      <td>...</td>\n      <td>...</td>\n      <td>...</td>\n      <td>...</td>\n      <td>...</td>\n      <td>...</td>\n      <td>...</td>\n    </tr>\n    <tr>\n      <th>2124</th>\n      <td>1289</td>\n      <td>city_103</td>\n      <td>0.920</td>\n      <td>Male</td>\n      <td>No relevent experience</td>\n      <td>no_enrollment</td>\n      <td>Graduate</td>\n      <td>Humanities</td>\n      <td>16</td>\n      <td>NaN</td>\n      <td>Public Sector</td>\n      <td>4</td>\n      <td>15</td>\n    </tr>\n    <tr>\n      <th>2125</th>\n      <td>195</td>\n      <td>city_136</td>\n      <td>0.897</td>\n      <td>Male</td>\n      <td>Has relevent experience</td>\n      <td>no_enrollment</td>\n      <td>Masters</td>\n      <td>STEM</td>\n      <td>18</td>\n      <td>NaN</td>\n      <td>NaN</td>\n      <td>2</td>\n      <td>30</td>\n    </tr>\n    <tr>\n      <th>2126</th>\n      <td>31762</td>\n      <td>city_100</td>\n      <td>0.887</td>\n      <td>Male</td>\n      <td>No relevent experience</td>\n      <td>no_enrollment</td>\n      <td>Primary School</td>\n      <td>NaN</td>\n      <td>3</td>\n      <td>NaN</td>\n      <td>Pvt Ltd</td>\n      <td>never</td>\n      <td>18</td>\n    </tr>\n    <tr>\n      <th>2127</th>\n      <td>7873</td>\n      <td>city_102</td>\n      <td>0.804</td>\n      <td>Male</td>\n      <td>Has relevent experience</td>\n      <td>Full time course</td>\n      <td>High School</td>\n      <td>NaN</td>\n      <td>7</td>\n      <td>100-500</td>\n      <td>Public Sector</td>\n      <td>1</td>\n      <td>84</td>\n    </tr>\n    <tr>\n      <th>2128</th>\n      <td>12215</td>\n      <td>city_102</td>\n      <td>0.804</td>\n      <td>Male</td>\n      <td>Has relevent experience</td>\n      <td>no_enrollment</td>\n      <td>Masters</td>\n      <td>STEM</td>\n      <td>15</td>\n      <td>10000+</td>\n      <td>Pvt Ltd</td>\n      <td>2</td>\n      <td>11</td>\n    </tr>\n  </tbody>\n</table>\n<p>2129 rows × 13 columns</p>\n</div>"
          },
          "metadata": {}
        }
      ]
    },
    {
      "cell_type": "code",
      "source": "df=pd.read_csv('aug_test.csv') #isnull() & notnull(): These functions check for missing values in a DataFrame or Series.\nmissing_values = df.notnull()\nmissing_values",
      "metadata": {
        "trusted": true
      },
      "execution_count": 4,
      "outputs": [
        {
          "execution_count": 4,
          "output_type": "execute_result",
          "data": {
            "text/plain": "      enrollee_id  city  city_development_index  gender  relevent_experience  \\\n0            True  True                    True    True                 True   \n1            True  True                    True    True                 True   \n2            True  True                    True    True                 True   \n3            True  True                    True    True                 True   \n4            True  True                    True    True                 True   \n...           ...   ...                     ...     ...                  ...   \n2124         True  True                    True    True                 True   \n2125         True  True                    True    True                 True   \n2126         True  True                    True    True                 True   \n2127         True  True                    True    True                 True   \n2128         True  True                    True    True                 True   \n\n      enrolled_university  education_level  major_discipline  experience  \\\n0                    True             True              True        True   \n1                    True             True              True        True   \n2                    True             True             False        True   \n3                    True             True              True        True   \n4                    True             True              True        True   \n...                   ...              ...               ...         ...   \n2124                 True             True              True        True   \n2125                 True             True              True        True   \n2126                 True             True             False        True   \n2127                 True             True             False        True   \n2128                 True             True              True        True   \n\n      company_size  company_type  last_new_job  training_hours  \n0             True         False          True            True  \n1            False          True          True            True  \n2            False          True          True            True  \n3             True          True          True            True  \n4             True          True          True            True  \n...            ...           ...           ...             ...  \n2124         False          True          True            True  \n2125         False         False          True            True  \n2126         False          True          True            True  \n2127          True          True          True            True  \n2128          True          True          True            True  \n\n[2129 rows x 13 columns]",
            "text/html": "<div>\n<style scoped>\n    .dataframe tbody tr th:only-of-type {\n        vertical-align: middle;\n    }\n\n    .dataframe tbody tr th {\n        vertical-align: top;\n    }\n\n    .dataframe thead th {\n        text-align: right;\n    }\n</style>\n<table border=\"1\" class=\"dataframe\">\n  <thead>\n    <tr style=\"text-align: right;\">\n      <th></th>\n      <th>enrollee_id</th>\n      <th>city</th>\n      <th>city_development_index</th>\n      <th>gender</th>\n      <th>relevent_experience</th>\n      <th>enrolled_university</th>\n      <th>education_level</th>\n      <th>major_discipline</th>\n      <th>experience</th>\n      <th>company_size</th>\n      <th>company_type</th>\n      <th>last_new_job</th>\n      <th>training_hours</th>\n    </tr>\n  </thead>\n  <tbody>\n    <tr>\n      <th>0</th>\n      <td>True</td>\n      <td>True</td>\n      <td>True</td>\n      <td>True</td>\n      <td>True</td>\n      <td>True</td>\n      <td>True</td>\n      <td>True</td>\n      <td>True</td>\n      <td>True</td>\n      <td>False</td>\n      <td>True</td>\n      <td>True</td>\n    </tr>\n    <tr>\n      <th>1</th>\n      <td>True</td>\n      <td>True</td>\n      <td>True</td>\n      <td>True</td>\n      <td>True</td>\n      <td>True</td>\n      <td>True</td>\n      <td>True</td>\n      <td>True</td>\n      <td>False</td>\n      <td>True</td>\n      <td>True</td>\n      <td>True</td>\n    </tr>\n    <tr>\n      <th>2</th>\n      <td>True</td>\n      <td>True</td>\n      <td>True</td>\n      <td>True</td>\n      <td>True</td>\n      <td>True</td>\n      <td>True</td>\n      <td>False</td>\n      <td>True</td>\n      <td>False</td>\n      <td>True</td>\n      <td>True</td>\n      <td>True</td>\n    </tr>\n    <tr>\n      <th>3</th>\n      <td>True</td>\n      <td>True</td>\n      <td>True</td>\n      <td>True</td>\n      <td>True</td>\n      <td>True</td>\n      <td>True</td>\n      <td>True</td>\n      <td>True</td>\n      <td>True</td>\n      <td>True</td>\n      <td>True</td>\n      <td>True</td>\n    </tr>\n    <tr>\n      <th>4</th>\n      <td>True</td>\n      <td>True</td>\n      <td>True</td>\n      <td>True</td>\n      <td>True</td>\n      <td>True</td>\n      <td>True</td>\n      <td>True</td>\n      <td>True</td>\n      <td>True</td>\n      <td>True</td>\n      <td>True</td>\n      <td>True</td>\n    </tr>\n    <tr>\n      <th>...</th>\n      <td>...</td>\n      <td>...</td>\n      <td>...</td>\n      <td>...</td>\n      <td>...</td>\n      <td>...</td>\n      <td>...</td>\n      <td>...</td>\n      <td>...</td>\n      <td>...</td>\n      <td>...</td>\n      <td>...</td>\n      <td>...</td>\n    </tr>\n    <tr>\n      <th>2124</th>\n      <td>True</td>\n      <td>True</td>\n      <td>True</td>\n      <td>True</td>\n      <td>True</td>\n      <td>True</td>\n      <td>True</td>\n      <td>True</td>\n      <td>True</td>\n      <td>False</td>\n      <td>True</td>\n      <td>True</td>\n      <td>True</td>\n    </tr>\n    <tr>\n      <th>2125</th>\n      <td>True</td>\n      <td>True</td>\n      <td>True</td>\n      <td>True</td>\n      <td>True</td>\n      <td>True</td>\n      <td>True</td>\n      <td>True</td>\n      <td>True</td>\n      <td>False</td>\n      <td>False</td>\n      <td>True</td>\n      <td>True</td>\n    </tr>\n    <tr>\n      <th>2126</th>\n      <td>True</td>\n      <td>True</td>\n      <td>True</td>\n      <td>True</td>\n      <td>True</td>\n      <td>True</td>\n      <td>True</td>\n      <td>False</td>\n      <td>True</td>\n      <td>False</td>\n      <td>True</td>\n      <td>True</td>\n      <td>True</td>\n    </tr>\n    <tr>\n      <th>2127</th>\n      <td>True</td>\n      <td>True</td>\n      <td>True</td>\n      <td>True</td>\n      <td>True</td>\n      <td>True</td>\n      <td>True</td>\n      <td>False</td>\n      <td>True</td>\n      <td>True</td>\n      <td>True</td>\n      <td>True</td>\n      <td>True</td>\n    </tr>\n    <tr>\n      <th>2128</th>\n      <td>True</td>\n      <td>True</td>\n      <td>True</td>\n      <td>True</td>\n      <td>True</td>\n      <td>True</td>\n      <td>True</td>\n      <td>True</td>\n      <td>True</td>\n      <td>True</td>\n      <td>True</td>\n      <td>True</td>\n      <td>True</td>\n    </tr>\n  </tbody>\n</table>\n<p>2129 rows × 13 columns</p>\n</div>"
          },
          "metadata": {}
        }
      ]
    },
    {
      "cell_type": "code",
      "source": "df=pd.read_csv('aug_test.csv')  #count the number of null values in each column of a Pandas DataFrame.\nmissing_values = df.isnull().sum()\nmissing_values",
      "metadata": {
        "trusted": true
      },
      "execution_count": 8,
      "outputs": [
        {
          "execution_count": 8,
          "output_type": "execute_result",
          "data": {
            "text/plain": "enrollee_id                 0\ncity                        0\ncity_development_index      0\ngender                    508\nrelevent_experience         0\nenrolled_university        31\neducation_level            52\nmajor_discipline          312\nexperience                  5\ncompany_size              622\ncompany_type              634\nlast_new_job               40\ntraining_hours              0\ndtype: int64"
          },
          "metadata": {}
        }
      ]
    },
    {
      "cell_type": "code",
      "source": "df=pd.read_csv('aug_test.csv')\nnotmissing_values = df.notnull().sum()\nnotmissing_values",
      "metadata": {
        "trusted": true
      },
      "execution_count": 9,
      "outputs": [
        {
          "execution_count": 9,
          "output_type": "execute_result",
          "data": {
            "text/plain": "enrollee_id               2129\ncity                      2129\ncity_development_index    2129\ngender                    1621\nrelevent_experience       2129\nenrolled_university       2098\neducation_level           2077\nmajor_discipline          1817\nexperience                2124\ncompany_size              1507\ncompany_type              1495\nlast_new_job              2089\ntraining_hours            2129\ndtype: int64"
          },
          "metadata": {}
        }
      ]
    },
    {
      "cell_type": "markdown",
      "source": "**dropna**",
      "metadata": {}
    },
    {
      "cell_type": "code",
      "source": "##axis ='index': Drops rows that contain missing values.\ndf = pd.read_csv('aug_test.csv')\nprint(\"======= before  =========\")\nprint(df.shape) \nprint(df.isnull().sum()) \ndf.dropna(axis='index', inplace=True)   # Drop rows with any missing values\nprint(\"======= After  =========\")\nprint(df.isnull().sum())         # Check if there are still missing values ",
      "metadata": {
        "trusted": true
      },
      "execution_count": 18,
      "outputs": [
        {
          "name": "stdout",
          "text": "======= before  =========\n(2129, 13)\nenrollee_id                 0\ncity                        0\ncity_development_index      0\ngender                    508\nrelevent_experience         0\nenrolled_university        31\neducation_level            52\nmajor_discipline          312\nexperience                  5\ncompany_size              622\ncompany_type              634\nlast_new_job               40\ntraining_hours              0\ndtype: int64\n======= After  =========\nenrollee_id               0\ncity                      0\ncity_development_index    0\ngender                    0\nrelevent_experience       0\nenrolled_university       0\neducation_level           0\nmajor_discipline          0\nexperience                0\ncompany_size              0\ncompany_type              0\nlast_new_job              0\ntraining_hours            0\ndtype: int64\n",
          "output_type": "stream"
        }
      ]
    },
    {
      "cell_type": "code",
      "source": "## axis='columns': Drops columns that contain missing values.\ndf = pd.read_csv('aug_test.csv')\nprint(\"======= before  =========\")  # Print original DataFrame shape\nprint(df.shape) \nprint(df.isnull().sum())\nprint(\"======= After  =========\")\ndf.dropna(axis='columns', inplace=True) # Drop columns with any missing values\nprint(df.shape)\nprint(df.isnull().sum())",
      "metadata": {
        "trusted": true
      },
      "execution_count": 16,
      "outputs": [
        {
          "name": "stdout",
          "text": "======= before  =========\n(2129, 13)\nenrollee_id                 0\ncity                        0\ncity_development_index      0\ngender                    508\nrelevent_experience         0\nenrolled_university        31\neducation_level            52\nmajor_discipline          312\nexperience                  5\ncompany_size              622\ncompany_type              634\nlast_new_job               40\ntraining_hours              0\ndtype: int64\n======= After  =========\n(2129, 5)\nenrollee_id               0\ncity                      0\ncity_development_index    0\nrelevent_experience       0\ntraining_hours            0\ndtype: int64\n",
          "output_type": "stream"
        }
      ]
    },
    {
      "cell_type": "markdown",
      "source": "**how='any': If any value in the row/column is missing, drop the entire row/column.** ",
      "metadata": {}
    },
    {
      "cell_type": "code",
      "source": "import pandas as pd\ndf = pd.read_csv('aug_test.csv')\nprint(\"======= BEFORE ========\")\nprint(df.shape)\nprint(df.isnull().sum()) \ndf.dropna(axis='columns', how='any', inplace=True)     # Drop columns with any missing values\nprint(\"\\n======= AFTER ========\")\nprint(df.shape) \nprint(df.isnull().sum())",
      "metadata": {
        "trusted": true
      },
      "execution_count": 5,
      "outputs": [
        {
          "name": "stdout",
          "text": "======= BEFORE ========\n(2129, 13)\nenrollee_id                 0\ncity                        0\ncity_development_index      0\ngender                    508\nrelevent_experience         0\nenrolled_university        31\neducation_level            52\nmajor_discipline          312\nexperience                  5\ncompany_size              622\ncompany_type              634\nlast_new_job               40\ntraining_hours              0\ndtype: int64\n\n======= AFTER ========\n(2129, 5)\nenrollee_id               0\ncity                      0\ncity_development_index    0\nrelevent_experience       0\ntraining_hours            0\ndtype: int64\n",
          "output_type": "stream"
        }
      ]
    },
    {
      "cell_type": "markdown",
      "source": "**how='any': If any value in the row/column is missing, drop the entire row/column**",
      "metadata": {}
    },
    {
      "cell_type": "code",
      "source": "import pandas as pd\ndf = pd.read_csv('aug_test.csv')\nprint(\"======= BEFORE =======\")\nprint(df.shape)\nprint(df.isnull().sum())\nprint(\"\\n======= AFTER =======\")\ndf.dropna(axis='columns', how='all', inplace=True) \nprint(df.shape)\nprint(df.isnull().sum())\n",
      "metadata": {
        "trusted": true
      },
      "execution_count": 7,
      "outputs": [
        {
          "name": "stdout",
          "text": "======= BEFORE =======\n(2129, 13)\nenrollee_id                 0\ncity                        0\ncity_development_index      0\ngender                    508\nrelevent_experience         0\nenrolled_university        31\neducation_level            52\nmajor_discipline          312\nexperience                  5\ncompany_size              622\ncompany_type              634\nlast_new_job               40\ntraining_hours              0\ndtype: int64\n\n======= AFTER =======\n(2129, 13)\nenrollee_id                 0\ncity                        0\ncity_development_index      0\ngender                    508\nrelevent_experience         0\nenrolled_university        31\neducation_level            52\nmajor_discipline          312\nexperience                  5\ncompany_size              622\ncompany_type              634\nlast_new_job               40\ntraining_hours              0\ndtype: int64\n",
          "output_type": "stream"
        }
      ]
    }
  ]
}