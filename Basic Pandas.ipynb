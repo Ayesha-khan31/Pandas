{
  "metadata": {
    "language_info": {
      "codemirror_mode": {
        "name": "python",
        "version": 3
      },
      "file_extension": ".py",
      "mimetype": "text/x-python",
      "name": "python",
      "nbconvert_exporter": "python",
      "pygments_lexer": "ipython3",
      "version": "3.8"
    },
    "kernelspec": {
      "name": "python",
      "display_name": "Python (Pyodide)",
      "language": "python"
    }
  },
  "nbformat_minor": 4,
  "nbformat": 4,
  "cells": [
    {
      "cell_type": "markdown",
      "source": " # Basic Pandas ",
      "metadata": {}
    },
    {
      "cell_type": "code",
      "source": "pip install pandas  ##install pandas",
      "metadata": {},
      "execution_count": null,
      "outputs": []
    },
    {
      "cell_type": "code",
      "source": "import pandas as pd\n#Create a DataFrame from a list of lists\ndata = [['Esha', 18], ['Ashu', 19], ['Ash', 20]]\ndf = pd.DataFrame(data, columns=['name', 'age'])\n# Print the DataFrame\nprint(df)\n",
      "metadata": {
        "trusted": true
      },
      "execution_count": 2,
      "outputs": [
        {
          "name": "stdout",
          "text": "   name  age\n0  Esha   18\n1  Ashu   19\n2   Ash   20\n",
          "output_type": "stream"
        }
      ]
    },
    {
      "cell_type": "code",
      "source": "df.head(2)",
      "metadata": {
        "trusted": true
      },
      "execution_count": 4,
      "outputs": [
        {
          "execution_count": 4,
          "output_type": "execute_result",
          "data": {
            "text/plain": "   name  age\n0  Esha   18\n1  Ashu   19",
            "text/html": "<div>\n<style scoped>\n    .dataframe tbody tr th:only-of-type {\n        vertical-align: middle;\n    }\n\n    .dataframe tbody tr th {\n        vertical-align: top;\n    }\n\n    .dataframe thead th {\n        text-align: right;\n    }\n</style>\n<table border=\"1\" class=\"dataframe\">\n  <thead>\n    <tr style=\"text-align: right;\">\n      <th></th>\n      <th>name</th>\n      <th>age</th>\n    </tr>\n  </thead>\n  <tbody>\n    <tr>\n      <th>0</th>\n      <td>Esha</td>\n      <td>18</td>\n    </tr>\n    <tr>\n      <th>1</th>\n      <td>Ashu</td>\n      <td>19</td>\n    </tr>\n  </tbody>\n</table>\n</div>"
          },
          "metadata": {}
        }
      ]
    },
    {
      "cell_type": "code",
      "source": "df.tail(1)",
      "metadata": {
        "trusted": true
      },
      "execution_count": 7,
      "outputs": [
        {
          "execution_count": 7,
          "output_type": "execute_result",
          "data": {
            "text/plain": "  name  age\n2  Ash   20",
            "text/html": "<div>\n<style scoped>\n    .dataframe tbody tr th:only-of-type {\n        vertical-align: middle;\n    }\n\n    .dataframe tbody tr th {\n        vertical-align: top;\n    }\n\n    .dataframe thead th {\n        text-align: right;\n    }\n</style>\n<table border=\"1\" class=\"dataframe\">\n  <thead>\n    <tr style=\"text-align: right;\">\n      <th></th>\n      <th>name</th>\n      <th>age</th>\n    </tr>\n  </thead>\n  <tbody>\n    <tr>\n      <th>2</th>\n      <td>Ash</td>\n      <td>20</td>\n    </tr>\n  </tbody>\n</table>\n</div>"
          },
          "metadata": {}
        }
      ]
    },
    {
      "cell_type": "code",
      "source": "df[\"name\"]",
      "metadata": {
        "trusted": true
      },
      "execution_count": 8,
      "outputs": [
        {
          "execution_count": 8,
          "output_type": "execute_result",
          "data": {
            "text/plain": "0    Esha\n1    Ashu\n2     Ash\nName: name, dtype: object"
          },
          "metadata": {}
        }
      ]
    },
    {
      "cell_type": "code",
      "source": "df[\"age\"].mean()",
      "metadata": {
        "trusted": true
      },
      "execution_count": 9,
      "outputs": [
        {
          "execution_count": 9,
          "output_type": "execute_result",
          "data": {
            "text/plain": "19.0"
          },
          "metadata": {}
        }
      ]
    },
    {
      "cell_type": "code",
      "source": "df[\"age\"].max() - df[\"age\"].min()",
      "metadata": {
        "trusted": true
      },
      "execution_count": 3,
      "outputs": [
        {
          "execution_count": 3,
          "output_type": "execute_result",
          "data": {
            "text/plain": "2"
          },
          "metadata": {}
        }
      ]
    },
    {
      "cell_type": "code",
      "source": "df[\"age\"].max()",
      "metadata": {
        "trusted": true
      },
      "execution_count": 3,
      "outputs": [
        {
          "execution_count": 3,
          "output_type": "execute_result",
          "data": {
            "text/plain": "20"
          },
          "metadata": {}
        }
      ]
    },
    {
      "cell_type": "markdown",
      "source": "  # We can read this CSV dataset into a Pandas DataFrame:",
      "metadata": {}
    },
    {
      "cell_type": "code",
      "source": "import pandas as pd\n# Read the CSV dataset into a DataFrame\ndf = pd.read_csv('Corona.csv')\ndf",
      "metadata": {
        "trusted": true
      },
      "execution_count": 2,
      "outputs": [
        {
          "execution_count": 2,
          "output_type": "execute_result",
          "data": {
            "text/plain": "      UserName  ScreenTime             Location   TweetAt  \\\n0            1       44953                  NYC  02-03-20   \n1            2       44954          Seattle, WA  02-03-20   \n2            3       44955                  NaN  02-03-20   \n3            4       44956          Chicagoland  02-03-20   \n4            5       44957  Melbourne, Victoria  03-03-20   \n...        ...         ...                  ...       ...   \n3793      3794       48746            Israel ??  16-03-20   \n3794      3795       48747       Farmington, NM  16-03-20   \n3795      3796       48748        Haverford, PA  16-03-20   \n3796      3797       48749                  NaN  16-03-20   \n3797      3798       48750  Arlington, Virginia  16-03-20   \n\n                                          OriginalTweet           Sentiment  \n0     TRENDING: New Yorkers encounter empty supermar...  Extremely Negative  \n1     When I couldn't find hand sanitizer at Fred Me...            Positive  \n2     Find out how you can protect yourself and love...  Extremely Positive  \n3     #Panic buying hits #NewYork City as anxious sh...            Negative  \n4     #toiletpaper #dunnypaper #coronavirus #coronav...             Neutral  \n...                                                 ...                 ...  \n3793  Meanwhile In A Supermarket in Israel -- People...            Positive  \n3794  Did you panic buy a lot of non-perishable item...            Negative  \n3795  Asst Prof of Economics @cconces was on @NBCPhi...             Neutral  \n3796  Gov need to do somethings instead of biar je r...  Extremely Negative  \n3797  I and @ForestandPaper members are committed to...  Extremely Positive  \n\n[3798 rows x 6 columns]",
            "text/html": "<div>\n<style scoped>\n    .dataframe tbody tr th:only-of-type {\n        vertical-align: middle;\n    }\n\n    .dataframe tbody tr th {\n        vertical-align: top;\n    }\n\n    .dataframe thead th {\n        text-align: right;\n    }\n</style>\n<table border=\"1\" class=\"dataframe\">\n  <thead>\n    <tr style=\"text-align: right;\">\n      <th></th>\n      <th>UserName</th>\n      <th>ScreenTime</th>\n      <th>Location</th>\n      <th>TweetAt</th>\n      <th>OriginalTweet</th>\n      <th>Sentiment</th>\n    </tr>\n  </thead>\n  <tbody>\n    <tr>\n      <th>0</th>\n      <td>1</td>\n      <td>44953</td>\n      <td>NYC</td>\n      <td>02-03-20</td>\n      <td>TRENDING: New Yorkers encounter empty supermar...</td>\n      <td>Extremely Negative</td>\n    </tr>\n    <tr>\n      <th>1</th>\n      <td>2</td>\n      <td>44954</td>\n      <td>Seattle, WA</td>\n      <td>02-03-20</td>\n      <td>When I couldn't find hand sanitizer at Fred Me...</td>\n      <td>Positive</td>\n    </tr>\n    <tr>\n      <th>2</th>\n      <td>3</td>\n      <td>44955</td>\n      <td>NaN</td>\n      <td>02-03-20</td>\n      <td>Find out how you can protect yourself and love...</td>\n      <td>Extremely Positive</td>\n    </tr>\n    <tr>\n      <th>3</th>\n      <td>4</td>\n      <td>44956</td>\n      <td>Chicagoland</td>\n      <td>02-03-20</td>\n      <td>#Panic buying hits #NewYork City as anxious sh...</td>\n      <td>Negative</td>\n    </tr>\n    <tr>\n      <th>4</th>\n      <td>5</td>\n      <td>44957</td>\n      <td>Melbourne, Victoria</td>\n      <td>03-03-20</td>\n      <td>#toiletpaper #dunnypaper #coronavirus #coronav...</td>\n      <td>Neutral</td>\n    </tr>\n    <tr>\n      <th>...</th>\n      <td>...</td>\n      <td>...</td>\n      <td>...</td>\n      <td>...</td>\n      <td>...</td>\n      <td>...</td>\n    </tr>\n    <tr>\n      <th>3793</th>\n      <td>3794</td>\n      <td>48746</td>\n      <td>Israel ??</td>\n      <td>16-03-20</td>\n      <td>Meanwhile In A Supermarket in Israel -- People...</td>\n      <td>Positive</td>\n    </tr>\n    <tr>\n      <th>3794</th>\n      <td>3795</td>\n      <td>48747</td>\n      <td>Farmington, NM</td>\n      <td>16-03-20</td>\n      <td>Did you panic buy a lot of non-perishable item...</td>\n      <td>Negative</td>\n    </tr>\n    <tr>\n      <th>3795</th>\n      <td>3796</td>\n      <td>48748</td>\n      <td>Haverford, PA</td>\n      <td>16-03-20</td>\n      <td>Asst Prof of Economics @cconces was on @NBCPhi...</td>\n      <td>Neutral</td>\n    </tr>\n    <tr>\n      <th>3796</th>\n      <td>3797</td>\n      <td>48749</td>\n      <td>NaN</td>\n      <td>16-03-20</td>\n      <td>Gov need to do somethings instead of biar je r...</td>\n      <td>Extremely Negative</td>\n    </tr>\n    <tr>\n      <th>3797</th>\n      <td>3798</td>\n      <td>48750</td>\n      <td>Arlington, Virginia</td>\n      <td>16-03-20</td>\n      <td>I and @ForestandPaper members are committed to...</td>\n      <td>Extremely Positive</td>\n    </tr>\n  </tbody>\n</table>\n<p>3798 rows × 6 columns</p>\n</div>"
          },
          "metadata": {}
        }
      ]
    },
    {
      "cell_type": "code",
      "source": "df.head(50)",
      "metadata": {
        "trusted": true
      },
      "execution_count": 5,
      "outputs": [
        {
          "execution_count": 5,
          "output_type": "execute_result",
          "data": {
            "text/plain": "    UserName  ScreenName                        Location     TweetAt  \\\n0          1       44953                             NYC  02-03-2020   \n1          2       44954                     Seattle, WA  02-03-2020   \n2          3       44955                             NaN  02-03-2020   \n3          4       44956                     Chicagoland  02-03-2020   \n4          5       44957             Melbourne, Victoria  03-03-2020   \n5          6       44958                     Los Angeles  03-03-2020   \n6          7       44959                             NaN  03-03-2020   \n7          8       44960             Geneva, Switzerland  03-03-2020   \n8          9       44961                             NaN  04-03-2020   \n9         10       44962                 Dublin, Ireland  04-03-2020   \n10        11       44963          Boksburg, South Africa  04-03-2020   \n11        12       44964                       New Delhi  04-03-2020   \n12        13       44965                         USA, PA  04-03-2020   \n13        14       44966                             NaN  04-03-2020   \n14        15       44967                  Washington, DC  04-03-2020   \n15        16       44968                      Bengaluru   04-03-2020   \n16        17       44969                          Mumbai  05-03-2020   \n17        18       44970                Toronto, Ontario  05-03-2020   \n18        19       44971                             NaN  05-03-2020   \n19        20       44972                     Tallahassee  05-03-2020   \n20        21       44973                           Malta  05-03-2020   \n21        22       44974                      Texas, USA  05-03-2020   \n22        23       44975                    Florida, USA  06-03-2020   \n23        24       44976                      Chandigarh  06-03-2020   \n24        25       44977                          Canada  07-03-2020   \n25        26       44978                Wayne County, MI  07-03-2020   \n26        27       44979             Bondi Beach, Sydney  07-03-2020   \n27        28       44980                             NaN  07-03-2020   \n28        29       44981                             NaN  07-03-2020   \n29        30       44982                   United States  07-03-2020   \n30        31       44983              New York, New York  07-03-2020   \n31        32       44984                 London, England  08-03-2020   \n32        33       44985                             USA  08-03-2020   \n33        34       44986                Toronto, Ontario  08-03-2020   \n34        35       44987          Angmering, West Sussex  08-03-2020   \n35        36       44988  Dont ask for freedom, take it.  08-03-2020   \n36        37       44989                    New York, NY  08-03-2020   \n37        38       44990                             NaN  08-03-2020   \n38        39       44991         Sydney, New South Wales  08-03-2020   \n39        40       44992        Socially Distanced in NC  08-03-2020   \n40        41       44993                   Michigan, USA  09-03-2020   \n41        42       44994                    Pennsylvania  09-03-2020   \n42        43       44995           Kolkata?? and Dhaka??  09-03-2020   \n43        44       44996                Washington, D.C.  09-03-2020   \n44        45       44997       Burnaby, British Columbia  09-03-2020   \n45        46       44998                   Manhattan, NY  09-03-2020   \n46        47       44999                   Colorado, USA  09-03-2020   \n47        48       45000                  Washington, DC  09-03-2020   \n48        49       45001                   United States  09-03-2020   \n49        50       45002         #NoNazis?? kaspum zaháv  09-03-2020   \n\n                                        OriginalTweet           Sentiment  \n0   TRENDING: New Yorkers encounter empty supermar...  Extremely Negative  \n1   When I couldn't find hand sanitizer at Fred Me...            Positive  \n2   Find out how you can protect yourself and love...  Extremely Positive  \n3   #Panic buying hits #NewYork City as anxious sh...            Negative  \n4   #toiletpaper #dunnypaper #coronavirus #coronav...             Neutral  \n5   Do you remember the last time you paid $2.99 a...             Neutral  \n6   Voting in the age of #coronavirus = hand sanit...            Positive  \n7   @DrTedros \"We cant stop #COVID19 without prot...             Neutral  \n8   HI TWITTER! I am a pharmacist. I sell hand san...  Extremely Negative  \n9   Anyone been in a supermarket over the last few...  Extremely Positive  \n10  Best quality couches at unbelievably low price...            Positive  \n11  Beware of counterfeits trying to sell fake mas...  Extremely Negative  \n12  Panic food buying in Germany due to #coronavir...  Extremely Negative  \n13  #Covid_19 Went to the Grocery Store, turns out...  Extremely Positive  \n14  While we were busy watching election returns a...            Positive  \n15  #AirSewa \\r\\r\\n\\r\\r\\n@flyspicejet is not provi...  Extremely Negative  \n16  What Precautionary measures have you all taken...  Extremely Positive  \n17  When youre stockpiling food &amp; other suppl...             Neutral  \n18  That's about a week from now. A bit optimistic...            Positive  \n19  Studies show the #coronavirus like #COVID19 ca...  Extremely Positive  \n20  #CoronaVirus #COVID_19 People are starting to ...            Negative  \n21  For those of you that think credit/debit is ju...  Extremely Positive  \n22  Control over stocks and gold is lost...gold co...  Extremely Positive  \n23  Sellers are cashing on your panic to sell face...  Extremely Positive  \n24  Canada's oilpatch is bracing for the impact of...  Extremely Negative  \n25  Alright yall I hope our Melanin prevails but ...            Positive  \n26  When your usual grocery shopping @woolworths t...            Negative  \n27  Coronavirus panic spreads: Costco is pulling f...            Negative  \n28  While you are stocking up, waiting for quarant...            Negative  \n29  #Coronavirus is \"an exposure of all the holes ...            Positive  \n30  Two important phone numbers NYers should know....            Negative  \n31  Tip for all Pro Wrestlers to help combat the #...  Extremely Positive  \n32  Is this effective?\\r\\r\\nIs it necessary?\\r\\r\\n...  Extremely Negative  \n33  IMHO Russia's rug pull on oil prices is design...  Extremely Negative  \n34  So not due to #Brexit at all then &gt;&gt; Sup...             Neutral  \n35  Remember, with all the media deflection storie...  Extremely Negative  \n36  Fellow Uni instructors! COVID-19 f2f class can...            Negative  \n37  @howroute Its not even over food... what the ...             Neutral  \n38  1/25 Part 1 - Why does soap work so well on th...            Negative  \n39  Thread: Please STOP shaming folks who stock up...  Extremely Positive  \n40  For those thinking #seniors #disabled &amp; #v...            Positive  \n41  So far 36 Pennsylvanians have reached out to m...            Negative  \n42  Global stock markets continued their bear run ...             Neutral  \n43  Scammers are taking advantage of fears surroun...            Positive  \n44  Are you doing business in international market...            Positive  \n45  For those in gig economy who only earn if ppl ...  Extremely Positive  \n46  I have instructed that insurance companies mak...  Extremely Positive  \n47  The oil prices dipping has absolutely nothing ...  Extremely Negative  \n48  Global stocks plummeted today due to fear surr...  Extremely Negative  \n49  The beginning of a  global recession!\\r\\r\\n\\r\\...  Extremely Negative  ",
            "text/html": "<div>\n<style scoped>\n    .dataframe tbody tr th:only-of-type {\n        vertical-align: middle;\n    }\n\n    .dataframe tbody tr th {\n        vertical-align: top;\n    }\n\n    .dataframe thead th {\n        text-align: right;\n    }\n</style>\n<table border=\"1\" class=\"dataframe\">\n  <thead>\n    <tr style=\"text-align: right;\">\n      <th></th>\n      <th>UserName</th>\n      <th>ScreenName</th>\n      <th>Location</th>\n      <th>TweetAt</th>\n      <th>OriginalTweet</th>\n      <th>Sentiment</th>\n    </tr>\n  </thead>\n  <tbody>\n    <tr>\n      <th>0</th>\n      <td>1</td>\n      <td>44953</td>\n      <td>NYC</td>\n      <td>02-03-2020</td>\n      <td>TRENDING: New Yorkers encounter empty supermar...</td>\n      <td>Extremely Negative</td>\n    </tr>\n    <tr>\n      <th>1</th>\n      <td>2</td>\n      <td>44954</td>\n      <td>Seattle, WA</td>\n      <td>02-03-2020</td>\n      <td>When I couldn't find hand sanitizer at Fred Me...</td>\n      <td>Positive</td>\n    </tr>\n    <tr>\n      <th>2</th>\n      <td>3</td>\n      <td>44955</td>\n      <td>NaN</td>\n      <td>02-03-2020</td>\n      <td>Find out how you can protect yourself and love...</td>\n      <td>Extremely Positive</td>\n    </tr>\n    <tr>\n      <th>3</th>\n      <td>4</td>\n      <td>44956</td>\n      <td>Chicagoland</td>\n      <td>02-03-2020</td>\n      <td>#Panic buying hits #NewYork City as anxious sh...</td>\n      <td>Negative</td>\n    </tr>\n    <tr>\n      <th>4</th>\n      <td>5</td>\n      <td>44957</td>\n      <td>Melbourne, Victoria</td>\n      <td>03-03-2020</td>\n      <td>#toiletpaper #dunnypaper #coronavirus #coronav...</td>\n      <td>Neutral</td>\n    </tr>\n    <tr>\n      <th>5</th>\n      <td>6</td>\n      <td>44958</td>\n      <td>Los Angeles</td>\n      <td>03-03-2020</td>\n      <td>Do you remember the last time you paid $2.99 a...</td>\n      <td>Neutral</td>\n    </tr>\n    <tr>\n      <th>6</th>\n      <td>7</td>\n      <td>44959</td>\n      <td>NaN</td>\n      <td>03-03-2020</td>\n      <td>Voting in the age of #coronavirus = hand sanit...</td>\n      <td>Positive</td>\n    </tr>\n    <tr>\n      <th>7</th>\n      <td>8</td>\n      <td>44960</td>\n      <td>Geneva, Switzerland</td>\n      <td>03-03-2020</td>\n      <td>@DrTedros \"We cant stop #COVID19 without prot...</td>\n      <td>Neutral</td>\n    </tr>\n    <tr>\n      <th>8</th>\n      <td>9</td>\n      <td>44961</td>\n      <td>NaN</td>\n      <td>04-03-2020</td>\n      <td>HI TWITTER! I am a pharmacist. I sell hand san...</td>\n      <td>Extremely Negative</td>\n    </tr>\n    <tr>\n      <th>9</th>\n      <td>10</td>\n      <td>44962</td>\n      <td>Dublin, Ireland</td>\n      <td>04-03-2020</td>\n      <td>Anyone been in a supermarket over the last few...</td>\n      <td>Extremely Positive</td>\n    </tr>\n    <tr>\n      <th>10</th>\n      <td>11</td>\n      <td>44963</td>\n      <td>Boksburg, South Africa</td>\n      <td>04-03-2020</td>\n      <td>Best quality couches at unbelievably low price...</td>\n      <td>Positive</td>\n    </tr>\n    <tr>\n      <th>11</th>\n      <td>12</td>\n      <td>44964</td>\n      <td>New Delhi</td>\n      <td>04-03-2020</td>\n      <td>Beware of counterfeits trying to sell fake mas...</td>\n      <td>Extremely Negative</td>\n    </tr>\n    <tr>\n      <th>12</th>\n      <td>13</td>\n      <td>44965</td>\n      <td>USA, PA</td>\n      <td>04-03-2020</td>\n      <td>Panic food buying in Germany due to #coronavir...</td>\n      <td>Extremely Negative</td>\n    </tr>\n    <tr>\n      <th>13</th>\n      <td>14</td>\n      <td>44966</td>\n      <td>NaN</td>\n      <td>04-03-2020</td>\n      <td>#Covid_19 Went to the Grocery Store, turns out...</td>\n      <td>Extremely Positive</td>\n    </tr>\n    <tr>\n      <th>14</th>\n      <td>15</td>\n      <td>44967</td>\n      <td>Washington, DC</td>\n      <td>04-03-2020</td>\n      <td>While we were busy watching election returns a...</td>\n      <td>Positive</td>\n    </tr>\n    <tr>\n      <th>15</th>\n      <td>16</td>\n      <td>44968</td>\n      <td>Bengaluru</td>\n      <td>04-03-2020</td>\n      <td>#AirSewa \\r\\r\\n\\r\\r\\n@flyspicejet is not provi...</td>\n      <td>Extremely Negative</td>\n    </tr>\n    <tr>\n      <th>16</th>\n      <td>17</td>\n      <td>44969</td>\n      <td>Mumbai</td>\n      <td>05-03-2020</td>\n      <td>What Precautionary measures have you all taken...</td>\n      <td>Extremely Positive</td>\n    </tr>\n    <tr>\n      <th>17</th>\n      <td>18</td>\n      <td>44970</td>\n      <td>Toronto, Ontario</td>\n      <td>05-03-2020</td>\n      <td>When youre stockpiling food &amp;amp; other suppl...</td>\n      <td>Neutral</td>\n    </tr>\n    <tr>\n      <th>18</th>\n      <td>19</td>\n      <td>44971</td>\n      <td>NaN</td>\n      <td>05-03-2020</td>\n      <td>That's about a week from now. A bit optimistic...</td>\n      <td>Positive</td>\n    </tr>\n    <tr>\n      <th>19</th>\n      <td>20</td>\n      <td>44972</td>\n      <td>Tallahassee</td>\n      <td>05-03-2020</td>\n      <td>Studies show the #coronavirus like #COVID19 ca...</td>\n      <td>Extremely Positive</td>\n    </tr>\n    <tr>\n      <th>20</th>\n      <td>21</td>\n      <td>44973</td>\n      <td>Malta</td>\n      <td>05-03-2020</td>\n      <td>#CoronaVirus #COVID_19 People are starting to ...</td>\n      <td>Negative</td>\n    </tr>\n    <tr>\n      <th>21</th>\n      <td>22</td>\n      <td>44974</td>\n      <td>Texas, USA</td>\n      <td>05-03-2020</td>\n      <td>For those of you that think credit/debit is ju...</td>\n      <td>Extremely Positive</td>\n    </tr>\n    <tr>\n      <th>22</th>\n      <td>23</td>\n      <td>44975</td>\n      <td>Florida, USA</td>\n      <td>06-03-2020</td>\n      <td>Control over stocks and gold is lost...gold co...</td>\n      <td>Extremely Positive</td>\n    </tr>\n    <tr>\n      <th>23</th>\n      <td>24</td>\n      <td>44976</td>\n      <td>Chandigarh</td>\n      <td>06-03-2020</td>\n      <td>Sellers are cashing on your panic to sell face...</td>\n      <td>Extremely Positive</td>\n    </tr>\n    <tr>\n      <th>24</th>\n      <td>25</td>\n      <td>44977</td>\n      <td>Canada</td>\n      <td>07-03-2020</td>\n      <td>Canada's oilpatch is bracing for the impact of...</td>\n      <td>Extremely Negative</td>\n    </tr>\n    <tr>\n      <th>25</th>\n      <td>26</td>\n      <td>44978</td>\n      <td>Wayne County, MI</td>\n      <td>07-03-2020</td>\n      <td>Alright yall I hope our Melanin prevails but ...</td>\n      <td>Positive</td>\n    </tr>\n    <tr>\n      <th>26</th>\n      <td>27</td>\n      <td>44979</td>\n      <td>Bondi Beach, Sydney</td>\n      <td>07-03-2020</td>\n      <td>When your usual grocery shopping @woolworths t...</td>\n      <td>Negative</td>\n    </tr>\n    <tr>\n      <th>27</th>\n      <td>28</td>\n      <td>44980</td>\n      <td>NaN</td>\n      <td>07-03-2020</td>\n      <td>Coronavirus panic spreads: Costco is pulling f...</td>\n      <td>Negative</td>\n    </tr>\n    <tr>\n      <th>28</th>\n      <td>29</td>\n      <td>44981</td>\n      <td>NaN</td>\n      <td>07-03-2020</td>\n      <td>While you are stocking up, waiting for quarant...</td>\n      <td>Negative</td>\n    </tr>\n    <tr>\n      <th>29</th>\n      <td>30</td>\n      <td>44982</td>\n      <td>United States</td>\n      <td>07-03-2020</td>\n      <td>#Coronavirus is \"an exposure of all the holes ...</td>\n      <td>Positive</td>\n    </tr>\n    <tr>\n      <th>30</th>\n      <td>31</td>\n      <td>44983</td>\n      <td>New York, New York</td>\n      <td>07-03-2020</td>\n      <td>Two important phone numbers NYers should know....</td>\n      <td>Negative</td>\n    </tr>\n    <tr>\n      <th>31</th>\n      <td>32</td>\n      <td>44984</td>\n      <td>London, England</td>\n      <td>08-03-2020</td>\n      <td>Tip for all Pro Wrestlers to help combat the #...</td>\n      <td>Extremely Positive</td>\n    </tr>\n    <tr>\n      <th>32</th>\n      <td>33</td>\n      <td>44985</td>\n      <td>USA</td>\n      <td>08-03-2020</td>\n      <td>Is this effective?\\r\\r\\nIs it necessary?\\r\\r\\n...</td>\n      <td>Extremely Negative</td>\n    </tr>\n    <tr>\n      <th>33</th>\n      <td>34</td>\n      <td>44986</td>\n      <td>Toronto, Ontario</td>\n      <td>08-03-2020</td>\n      <td>IMHO Russia's rug pull on oil prices is design...</td>\n      <td>Extremely Negative</td>\n    </tr>\n    <tr>\n      <th>34</th>\n      <td>35</td>\n      <td>44987</td>\n      <td>Angmering, West Sussex</td>\n      <td>08-03-2020</td>\n      <td>So not due to #Brexit at all then &amp;gt;&amp;gt; Sup...</td>\n      <td>Neutral</td>\n    </tr>\n    <tr>\n      <th>35</th>\n      <td>36</td>\n      <td>44988</td>\n      <td>Dont ask for freedom, take it.</td>\n      <td>08-03-2020</td>\n      <td>Remember, with all the media deflection storie...</td>\n      <td>Extremely Negative</td>\n    </tr>\n    <tr>\n      <th>36</th>\n      <td>37</td>\n      <td>44989</td>\n      <td>New York, NY</td>\n      <td>08-03-2020</td>\n      <td>Fellow Uni instructors! COVID-19 f2f class can...</td>\n      <td>Negative</td>\n    </tr>\n    <tr>\n      <th>37</th>\n      <td>38</td>\n      <td>44990</td>\n      <td>NaN</td>\n      <td>08-03-2020</td>\n      <td>@howroute Its not even over food... what the ...</td>\n      <td>Neutral</td>\n    </tr>\n    <tr>\n      <th>38</th>\n      <td>39</td>\n      <td>44991</td>\n      <td>Sydney, New South Wales</td>\n      <td>08-03-2020</td>\n      <td>1/25 Part 1 - Why does soap work so well on th...</td>\n      <td>Negative</td>\n    </tr>\n    <tr>\n      <th>39</th>\n      <td>40</td>\n      <td>44992</td>\n      <td>Socially Distanced in NC</td>\n      <td>08-03-2020</td>\n      <td>Thread: Please STOP shaming folks who stock up...</td>\n      <td>Extremely Positive</td>\n    </tr>\n    <tr>\n      <th>40</th>\n      <td>41</td>\n      <td>44993</td>\n      <td>Michigan, USA</td>\n      <td>09-03-2020</td>\n      <td>For those thinking #seniors #disabled &amp;amp; #v...</td>\n      <td>Positive</td>\n    </tr>\n    <tr>\n      <th>41</th>\n      <td>42</td>\n      <td>44994</td>\n      <td>Pennsylvania</td>\n      <td>09-03-2020</td>\n      <td>So far 36 Pennsylvanians have reached out to m...</td>\n      <td>Negative</td>\n    </tr>\n    <tr>\n      <th>42</th>\n      <td>43</td>\n      <td>44995</td>\n      <td>Kolkata?? and Dhaka??</td>\n      <td>09-03-2020</td>\n      <td>Global stock markets continued their bear run ...</td>\n      <td>Neutral</td>\n    </tr>\n    <tr>\n      <th>43</th>\n      <td>44</td>\n      <td>44996</td>\n      <td>Washington, D.C.</td>\n      <td>09-03-2020</td>\n      <td>Scammers are taking advantage of fears surroun...</td>\n      <td>Positive</td>\n    </tr>\n    <tr>\n      <th>44</th>\n      <td>45</td>\n      <td>44997</td>\n      <td>Burnaby, British Columbia</td>\n      <td>09-03-2020</td>\n      <td>Are you doing business in international market...</td>\n      <td>Positive</td>\n    </tr>\n    <tr>\n      <th>45</th>\n      <td>46</td>\n      <td>44998</td>\n      <td>Manhattan, NY</td>\n      <td>09-03-2020</td>\n      <td>For those in gig economy who only earn if ppl ...</td>\n      <td>Extremely Positive</td>\n    </tr>\n    <tr>\n      <th>46</th>\n      <td>47</td>\n      <td>44999</td>\n      <td>Colorado, USA</td>\n      <td>09-03-2020</td>\n      <td>I have instructed that insurance companies mak...</td>\n      <td>Extremely Positive</td>\n    </tr>\n    <tr>\n      <th>47</th>\n      <td>48</td>\n      <td>45000</td>\n      <td>Washington, DC</td>\n      <td>09-03-2020</td>\n      <td>The oil prices dipping has absolutely nothing ...</td>\n      <td>Extremely Negative</td>\n    </tr>\n    <tr>\n      <th>48</th>\n      <td>49</td>\n      <td>45001</td>\n      <td>United States</td>\n      <td>09-03-2020</td>\n      <td>Global stocks plummeted today due to fear surr...</td>\n      <td>Extremely Negative</td>\n    </tr>\n    <tr>\n      <th>49</th>\n      <td>50</td>\n      <td>45002</td>\n      <td>#NoNazis?? kaspum zaháv</td>\n      <td>09-03-2020</td>\n      <td>The beginning of a  global recession!\\r\\r\\n\\r\\...</td>\n      <td>Extremely Negative</td>\n    </tr>\n  </tbody>\n</table>\n</div>"
          },
          "metadata": {}
        }
      ]
    },
    {
      "cell_type": "code",
      "source": "df.tail(30)",
      "metadata": {
        "trusted": true
      },
      "execution_count": 7,
      "outputs": [
        {
          "execution_count": 7,
          "output_type": "execute_result",
          "data": {
            "text/plain": "      UserName  ScreenName                      Location     TweetAt  \\\n3768      3769       48721              Montreal, Canada  16-03-2020   \n3769      3770       48722                  Marietta, GA  16-03-2020   \n3770      3771       48723            West Virginia, USA  16-03-2020   \n3771      3772       48724                   Houston, TX  16-03-2020   \n3772      3773       48725                Louisville, KY  16-03-2020   \n3773      3774       48726                          Köln  16-03-2020   \n3774      3775       48727  Living takes my breath away?  16-03-2020   \n3775      3776       48728                Southern Maine  16-03-2020   \n3776      3777       48729      Toronto, Ontario, Canada  16-03-2020   \n3777      3778       48730                           NaN  16-03-2020   \n3778      3779       48731                           NaN  16-03-2020   \n3779      3780       48732                           NaN  16-03-2020   \n3780      3781       48733                   Kansas, USA  16-03-2020   \n3781      3782       48734          Groningen, Nederland  16-03-2020   \n3782      3783       48735                       Toronto  16-03-2020   \n3783      3784       48736                         Texas  16-03-2020   \n3784      3785       48737             Paraparaumu Beach  16-03-2020   \n3785      3786       48738    People's Republic of China  16-03-2020   \n3786      3787       48739        Flemington, New Jersey  16-03-2020   \n3787      3788       48740           Manchester, England  16-03-2020   \n3788      3789       48741                      Pakistan  16-03-2020   \n3789      3790       48742               California, USA  16-03-2020   \n3790      3791       48743              Cincinnati, Ohio  16-03-2020   \n3791      3792       48744               Washington D.C.  16-03-2020   \n3792      3793       48745               Washington D.C.  16-03-2020   \n3793      3794       48746                     Israel ??  16-03-2020   \n3794      3795       48747                Farmington, NM  16-03-2020   \n3795      3796       48748                 Haverford, PA  16-03-2020   \n3796      3797       48749                           NaN  16-03-2020   \n3797      3798       48750           Arlington, Virginia  16-03-2020   \n\n                                          OriginalTweet           Sentiment  \n3768  Coronavirus Panic: Toilet Paper Is the People...            Negative  \n3769  Due to the Corona Virus (Covid -19) we have ma...            Positive  \n3770  PSA: Stop panicking about COVID-19, you don't ...            Negative  \n3771  When I'm stopped by George at the grocery stor...            Negative  \n3772  Due to ongoing public health and safety concer...            Positive  \n3773  Rewe Mitarbeiter: Nur eine Packung Klopapier ...             Neutral  \n3774  The financial &amp; economic impact of COVID-1...             Neutral  \n3775  At the store today, cat food was in low supply...  Extremely Negative  \n3776  The GLB Retail Store / Taproom is CLOSED today...  Extremely Positive  \n3777  Waiting in a line in 1 meter distance from eac...             Neutral  \n3778  In light of the ongoing and rapidly evolving C...             Neutral  \n3779  Stuck inside?  How about getting some reading ...            Positive  \n3780  @GovLauraKelly PLEASE CLOSE ALL RETAIL that is...            Positive  \n3781  @writing4poker @RealKidPoker I can only wish y...  Extremely Positive  \n3782  Most brands feel compelled to address COVID-19...  Extremely Positive  \n3783  Amazon delivery infrastructure strained as COV...            Negative  \n3784  Just been through K?piti New World which is bu...            Positive  \n3785  At this crucial time when non Muslims are givi...  Extremely Positive  \n3786  We've noticed a shift in consumer #research in...  Extremely Positive  \n3787  Its funny seeing all these people fight and pa...  Extremely Negative  \n3788  You never eaten the pigs cat dog or food from ...             Neutral  \n3789  @calebmealer @thebradfordfile @realDonaldTrump...  Extremely Positive  \n3790  Even though the Law Library is closed, ALL sub...            Positive  \n3791  With Gov Hogan's announcement that all bars, r...  Extremely Negative  \n3792  @RicePolitics @MDCounties Craig, will you call...            Negative  \n3793  Meanwhile In A Supermarket in Israel -- People...            Positive  \n3794  Did you panic buy a lot of non-perishable item...            Negative  \n3795  Asst Prof of Economics @cconces was on @NBCPhi...             Neutral  \n3796  Gov need to do somethings instead of biar je r...  Extremely Negative  \n3797  I and @ForestandPaper members are committed to...  Extremely Positive  ",
            "text/html": "<div>\n<style scoped>\n    .dataframe tbody tr th:only-of-type {\n        vertical-align: middle;\n    }\n\n    .dataframe tbody tr th {\n        vertical-align: top;\n    }\n\n    .dataframe thead th {\n        text-align: right;\n    }\n</style>\n<table border=\"1\" class=\"dataframe\">\n  <thead>\n    <tr style=\"text-align: right;\">\n      <th></th>\n      <th>UserName</th>\n      <th>ScreenName</th>\n      <th>Location</th>\n      <th>TweetAt</th>\n      <th>OriginalTweet</th>\n      <th>Sentiment</th>\n    </tr>\n  </thead>\n  <tbody>\n    <tr>\n      <th>3768</th>\n      <td>3769</td>\n      <td>48721</td>\n      <td>Montreal, Canada</td>\n      <td>16-03-2020</td>\n      <td>Coronavirus Panic: Toilet Paper Is the People...</td>\n      <td>Negative</td>\n    </tr>\n    <tr>\n      <th>3769</th>\n      <td>3770</td>\n      <td>48722</td>\n      <td>Marietta, GA</td>\n      <td>16-03-2020</td>\n      <td>Due to the Corona Virus (Covid -19) we have ma...</td>\n      <td>Positive</td>\n    </tr>\n    <tr>\n      <th>3770</th>\n      <td>3771</td>\n      <td>48723</td>\n      <td>West Virginia, USA</td>\n      <td>16-03-2020</td>\n      <td>PSA: Stop panicking about COVID-19, you don't ...</td>\n      <td>Negative</td>\n    </tr>\n    <tr>\n      <th>3771</th>\n      <td>3772</td>\n      <td>48724</td>\n      <td>Houston, TX</td>\n      <td>16-03-2020</td>\n      <td>When I'm stopped by George at the grocery stor...</td>\n      <td>Negative</td>\n    </tr>\n    <tr>\n      <th>3772</th>\n      <td>3773</td>\n      <td>48725</td>\n      <td>Louisville, KY</td>\n      <td>16-03-2020</td>\n      <td>Due to ongoing public health and safety concer...</td>\n      <td>Positive</td>\n    </tr>\n    <tr>\n      <th>3773</th>\n      <td>3774</td>\n      <td>48726</td>\n      <td>Köln</td>\n      <td>16-03-2020</td>\n      <td>Rewe Mitarbeiter: Nur eine Packung Klopapier ...</td>\n      <td>Neutral</td>\n    </tr>\n    <tr>\n      <th>3774</th>\n      <td>3775</td>\n      <td>48727</td>\n      <td>Living takes my breath away?</td>\n      <td>16-03-2020</td>\n      <td>The financial &amp;amp; economic impact of COVID-1...</td>\n      <td>Neutral</td>\n    </tr>\n    <tr>\n      <th>3775</th>\n      <td>3776</td>\n      <td>48728</td>\n      <td>Southern Maine</td>\n      <td>16-03-2020</td>\n      <td>At the store today, cat food was in low supply...</td>\n      <td>Extremely Negative</td>\n    </tr>\n    <tr>\n      <th>3776</th>\n      <td>3777</td>\n      <td>48729</td>\n      <td>Toronto, Ontario, Canada</td>\n      <td>16-03-2020</td>\n      <td>The GLB Retail Store / Taproom is CLOSED today...</td>\n      <td>Extremely Positive</td>\n    </tr>\n    <tr>\n      <th>3777</th>\n      <td>3778</td>\n      <td>48730</td>\n      <td>NaN</td>\n      <td>16-03-2020</td>\n      <td>Waiting in a line in 1 meter distance from eac...</td>\n      <td>Neutral</td>\n    </tr>\n    <tr>\n      <th>3778</th>\n      <td>3779</td>\n      <td>48731</td>\n      <td>NaN</td>\n      <td>16-03-2020</td>\n      <td>In light of the ongoing and rapidly evolving C...</td>\n      <td>Neutral</td>\n    </tr>\n    <tr>\n      <th>3779</th>\n      <td>3780</td>\n      <td>48732</td>\n      <td>NaN</td>\n      <td>16-03-2020</td>\n      <td>Stuck inside?  How about getting some reading ...</td>\n      <td>Positive</td>\n    </tr>\n    <tr>\n      <th>3780</th>\n      <td>3781</td>\n      <td>48733</td>\n      <td>Kansas, USA</td>\n      <td>16-03-2020</td>\n      <td>@GovLauraKelly PLEASE CLOSE ALL RETAIL that is...</td>\n      <td>Positive</td>\n    </tr>\n    <tr>\n      <th>3781</th>\n      <td>3782</td>\n      <td>48734</td>\n      <td>Groningen, Nederland</td>\n      <td>16-03-2020</td>\n      <td>@writing4poker @RealKidPoker I can only wish y...</td>\n      <td>Extremely Positive</td>\n    </tr>\n    <tr>\n      <th>3782</th>\n      <td>3783</td>\n      <td>48735</td>\n      <td>Toronto</td>\n      <td>16-03-2020</td>\n      <td>Most brands feel compelled to address COVID-19...</td>\n      <td>Extremely Positive</td>\n    </tr>\n    <tr>\n      <th>3783</th>\n      <td>3784</td>\n      <td>48736</td>\n      <td>Texas</td>\n      <td>16-03-2020</td>\n      <td>Amazon delivery infrastructure strained as COV...</td>\n      <td>Negative</td>\n    </tr>\n    <tr>\n      <th>3784</th>\n      <td>3785</td>\n      <td>48737</td>\n      <td>Paraparaumu Beach</td>\n      <td>16-03-2020</td>\n      <td>Just been through K?piti New World which is bu...</td>\n      <td>Positive</td>\n    </tr>\n    <tr>\n      <th>3785</th>\n      <td>3786</td>\n      <td>48738</td>\n      <td>People's Republic of China</td>\n      <td>16-03-2020</td>\n      <td>At this crucial time when non Muslims are givi...</td>\n      <td>Extremely Positive</td>\n    </tr>\n    <tr>\n      <th>3786</th>\n      <td>3787</td>\n      <td>48739</td>\n      <td>Flemington, New Jersey</td>\n      <td>16-03-2020</td>\n      <td>We've noticed a shift in consumer #research in...</td>\n      <td>Extremely Positive</td>\n    </tr>\n    <tr>\n      <th>3787</th>\n      <td>3788</td>\n      <td>48740</td>\n      <td>Manchester, England</td>\n      <td>16-03-2020</td>\n      <td>Its funny seeing all these people fight and pa...</td>\n      <td>Extremely Negative</td>\n    </tr>\n    <tr>\n      <th>3788</th>\n      <td>3789</td>\n      <td>48741</td>\n      <td>Pakistan</td>\n      <td>16-03-2020</td>\n      <td>You never eaten the pigs cat dog or food from ...</td>\n      <td>Neutral</td>\n    </tr>\n    <tr>\n      <th>3789</th>\n      <td>3790</td>\n      <td>48742</td>\n      <td>California, USA</td>\n      <td>16-03-2020</td>\n      <td>@calebmealer @thebradfordfile @realDonaldTrump...</td>\n      <td>Extremely Positive</td>\n    </tr>\n    <tr>\n      <th>3790</th>\n      <td>3791</td>\n      <td>48743</td>\n      <td>Cincinnati, Ohio</td>\n      <td>16-03-2020</td>\n      <td>Even though the Law Library is closed, ALL sub...</td>\n      <td>Positive</td>\n    </tr>\n    <tr>\n      <th>3791</th>\n      <td>3792</td>\n      <td>48744</td>\n      <td>Washington D.C.</td>\n      <td>16-03-2020</td>\n      <td>With Gov Hogan's announcement that all bars, r...</td>\n      <td>Extremely Negative</td>\n    </tr>\n    <tr>\n      <th>3792</th>\n      <td>3793</td>\n      <td>48745</td>\n      <td>Washington D.C.</td>\n      <td>16-03-2020</td>\n      <td>@RicePolitics @MDCounties Craig, will you call...</td>\n      <td>Negative</td>\n    </tr>\n    <tr>\n      <th>3793</th>\n      <td>3794</td>\n      <td>48746</td>\n      <td>Israel ??</td>\n      <td>16-03-2020</td>\n      <td>Meanwhile In A Supermarket in Israel -- People...</td>\n      <td>Positive</td>\n    </tr>\n    <tr>\n      <th>3794</th>\n      <td>3795</td>\n      <td>48747</td>\n      <td>Farmington, NM</td>\n      <td>16-03-2020</td>\n      <td>Did you panic buy a lot of non-perishable item...</td>\n      <td>Negative</td>\n    </tr>\n    <tr>\n      <th>3795</th>\n      <td>3796</td>\n      <td>48748</td>\n      <td>Haverford, PA</td>\n      <td>16-03-2020</td>\n      <td>Asst Prof of Economics @cconces was on @NBCPhi...</td>\n      <td>Neutral</td>\n    </tr>\n    <tr>\n      <th>3796</th>\n      <td>3797</td>\n      <td>48749</td>\n      <td>NaN</td>\n      <td>16-03-2020</td>\n      <td>Gov need to do somethings instead of biar je r...</td>\n      <td>Extremely Negative</td>\n    </tr>\n    <tr>\n      <th>3797</th>\n      <td>3798</td>\n      <td>48750</td>\n      <td>Arlington, Virginia</td>\n      <td>16-03-2020</td>\n      <td>I and @ForestandPaper members are committed to...</td>\n      <td>Extremely Positive</td>\n    </tr>\n  </tbody>\n</table>\n</div>"
          },
          "metadata": {}
        }
      ]
    },
    {
      "cell_type": "code",
      "source": "df['ScreenTime']",
      "metadata": {
        "trusted": true
      },
      "execution_count": 14,
      "outputs": [
        {
          "execution_count": 14,
          "output_type": "execute_result",
          "data": {
            "text/plain": "0       44953\n1       44954\n2       44955\n3       44956\n4       44957\n        ...  \n3793    48746\n3794    48747\n3795    48748\n3796    48749\n3797    48750\nName: ScreenTime, Length: 3798, dtype: int64"
          },
          "metadata": {}
        }
      ]
    },
    {
      "cell_type": "code",
      "source": "df['ScreenTime'].mean()   #Calculate mean",
      "metadata": {
        "trusted": true
      },
      "execution_count": 18,
      "outputs": [
        {
          "execution_count": 18,
          "output_type": "execute_result",
          "data": {
            "text/plain": "46851.5"
          },
          "metadata": {}
        }
      ]
    },
    {
      "cell_type": "code",
      "source": "df[\"ScreenTime\"].median()  #Calculate median",
      "metadata": {
        "trusted": true
      },
      "execution_count": 19,
      "outputs": [
        {
          "execution_count": 19,
          "output_type": "execute_result",
          "data": {
            "text/plain": "46851.5"
          },
          "metadata": {}
        }
      ]
    },
    {
      "cell_type": "code",
      "source": "df[\"ScreenTime\"].mode()    #Calculate mode",
      "metadata": {
        "trusted": true
      },
      "execution_count": 3,
      "outputs": [
        {
          "execution_count": 3,
          "output_type": "execute_result",
          "data": {
            "text/plain": "0       44953\n1       44954\n2       44955\n3       44956\n4       44957\n        ...  \n3793    48746\n3794    48747\n3795    48748\n3796    48749\n3797    48750\nName: ScreenTime, Length: 3798, dtype: int64"
          },
          "metadata": {}
        }
      ]
    },
    {
      "cell_type": "code",
      "source": "df[\"ScreenTime\"].std()     #Calculate Standard Deviation",
      "metadata": {
        "trusted": true
      },
      "execution_count": 4,
      "outputs": [
        {
          "execution_count": 4,
          "output_type": "execute_result",
          "data": {
            "text/plain": "1096.5324892587541"
          },
          "metadata": {}
        }
      ]
    },
    {
      "cell_type": "code",
      "source": "df[\"ScreenTime\"].max()     #Calculate max values",
      "metadata": {
        "trusted": true
      },
      "execution_count": 7,
      "outputs": [
        {
          "execution_count": 7,
          "output_type": "execute_result",
          "data": {
            "text/plain": "48750"
          },
          "metadata": {}
        }
      ]
    },
    {
      "cell_type": "code",
      "source": "df[\"ScreenTime\"].min()     #Calculate min values",
      "metadata": {
        "trusted": true
      },
      "execution_count": 8,
      "outputs": [
        {
          "execution_count": 8,
          "output_type": "execute_result",
          "data": {
            "text/plain": "44953"
          },
          "metadata": {}
        }
      ]
    }
  ]
}